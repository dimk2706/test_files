{
 "cells": [
  {
   "cell_type": "code",
   "execution_count": 3,
   "id": "33194688-6aca-4f53-87f8-36fd7229795c",
   "metadata": {},
   "outputs": [],
   "source": [
    "import pandas as pd\n"
   ]
  },
  {
   "cell_type": "code",
   "execution_count": 5,
   "id": "04edd3d8-dbd3-49c1-8c5a-fcf0f163f957",
   "metadata": {},
   "outputs": [],
   "source": [
    "# Создаем и сохраняем DataFrame в одну строку\n",
    "(pd.DataFrame({\n",
    "    'Продукт': ['Ноутбук', 'Мышь', 'Клавиатура', 'Монитор'],\n",
    "    'Цена': [50000, 1500, 3000, 25000],\n",
    "    'Количество': [10, 50, 30, 15]\n",
    "})\n",
    " .to_excel('kda_test_file.xlsx', index=False)\n",
    ")"
   ]
  },
  {
   "cell_type": "code",
   "execution_count": null,
   "id": "2d5803af-6ff3-485a-94a6-eb646dcc53e6",
   "metadata": {},
   "outputs": [],
   "source": []
  }
 ],
 "metadata": {
  "kernelspec": {
   "display_name": "Python 3 (ipykernel)",
   "language": "python",
   "name": "python3"
  },
  "language_info": {
   "codemirror_mode": {
    "name": "ipython",
    "version": 3
   },
   "file_extension": ".py",
   "mimetype": "text/x-python",
   "name": "python",
   "nbconvert_exporter": "python",
   "pygments_lexer": "ipython3",
   "version": "3.12.10"
  }
 },
 "nbformat": 4,
 "nbformat_minor": 5
}
